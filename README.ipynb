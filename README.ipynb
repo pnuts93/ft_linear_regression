{
 "cells": [
  {
   "cell_type": "markdown",
   "metadata": {},
   "source": [
    "# ft_linear_regression\n",
    "A python project that implements linear regression with gradient descent from scratch"
   ]
  },
  {
   "cell_type": "markdown",
   "metadata": {},
   "source": [
    "## Introduction\n",
    "The project is based on a [42](https://42berlin.de/) subject from the advanced curriculum. The goal is to make a linear regression model based on the gradient descent method that tries to predict the price of a car based on its mileage. It includes two parts: `train.py` and `predict.py`.  \n",
    "1. `train.py` reads into `data/data.csv` and trains the linear regression model. When the training has been completed, the program writes the calculated coefficients in `model.json`.\n",
    "2. `predict.py` accepts an integer as argument ( the mileage of a car ), reads `model.json` and uses the coefficients to predict the price for that car. "
   ]
  },
  {
   "cell_type": "markdown",
   "metadata": {},
   "source": [
    "## Features\n",
    "The `train.py` program creates an animation with Matplotlib to show how the model \"learns\" over the iterations. The output is shown below:"
   ]
  },
  {
   "cell_type": "markdown",
   "metadata": {},
   "source": [
    "![animation](gd.gif)"
   ]
  },
  {
   "cell_type": "markdown",
   "metadata": {},
   "source": [
    "## Issues\n",
    "The subject requires to use the following formulas:\n",
    "$$ \\theta _0 = learningRate * \\frac{1}{m} \\sum_{i=0}^{m - 1} (estimatedPrice(mileage[i]) - price[i])  $$\n",
    "$$ \\theta _1 = learningRate * \\frac{1}{m} \\sum_{i=0}^{m - 1} (estimatedPrice(mileage[i]) - price[i]) * mileage[i] $$\n",
    "\n",
    "Although this does not change substantially the formulas that can be obtained via partial derivatives of the mean square error formula ( the one that should be used for gradient descent ), I personally found it rather confusing considering that no reference was given to what motivated the use of this simplified formula. For any other student encountering this issue (or for anyone wondering why I have used this specific formula) here is the information I could gather:\n",
    "* In this simplified formula the sign of the fraction and its nominator are changed, which should not radically change the final result because\n",
    "    * Changing the sign changes the \"direction\" in which the lowest point of the error curve is searched\n",
    "    * Changing the nominator simply impacts the learning rate, doubling it\n",
    "* In the equation of a line $ y = mx + b $\n",
    "    * $ \\theta _0 $ corresponds to $ b $\n",
    "    * $ \\theta _1 $ corresponds to $ m $\n"
   ]
  },
  {
   "cell_type": "markdown",
   "metadata": {},
   "source": [
    "## Method\n",
    "The model is trained on a dataset scaled with the min-max scaling method, and the coefficients in the output are re-scaled to the original dimensions by using the opposite process.  \n",
    "The model defaults to a learning rate of 0.05 and iterates over 1000 epochs. The optimal number of epochs actually falls a bit over one half of the default, but mostly due to aesthetic reasons I extended it to 1000 (I wanted a longer MSE curve to show that the curve actually does not keep decreasing after reaching 600 epochs)"
   ]
  }
 ],
 "metadata": {
  "language_info": {
   "name": "python"
  }
 },
 "nbformat": 4,
 "nbformat_minor": 2
}
